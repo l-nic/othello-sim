{
 "cells": [
  {
   "cell_type": "code",
   "execution_count": 1,
   "metadata": {},
   "outputs": [],
   "source": [
    "import warnings\n",
    "warnings.filterwarnings('ignore')\n",
    "# For ignoring warnings printed by R magic commands"
   ]
  },
  {
   "cell_type": "code",
   "execution_count": 2,
   "metadata": {},
   "outputs": [],
   "source": [
    "# Load R magic\n",
    "%load_ext rpy2.ipython"
   ]
  },
  {
   "cell_type": "code",
   "execution_count": 28,
   "metadata": {},
   "outputs": [],
   "source": [
    "%%R\n",
    "library(ggplot2)\n",
    "library(ggthemes)\n",
    "library(RColorBrewer)\n",
    "\n",
    "blues = brewer.pal(n = 6, \"Blues\")[4:6]\n",
    "plotTheme <- theme_hc() + theme(legend.title=element_blank(), \n",
    "                                legend.position=\"right\", \n",
    "                                legend.text=element_text(size=8))"
   ]
  },
  {
   "cell_type": "code",
   "execution_count": 3,
   "metadata": {},
   "outputs": [],
   "source": [
    "import pandas as pd"
   ]
  },
  {
   "cell_type": "code",
   "execution_count": 18,
   "metadata": {},
   "outputs": [],
   "source": [
    "df_single = pd.read_csv('data/single-core-completions/5-level-single.csv', sep=',', header=None, names=['Duration'])\n",
    "df_single['Scheme'] = 'Single Core'\n",
    "df_mem = pd.read_csv('data/6-22-19/completion_times/5-level-mem.csv', sep=',', header=None, names=['Duration'])\n",
    "df_mem['Scheme'] = 'Memory'\n",
    "df_ddio = pd.read_csv('data/6-22-19/completion_times/5-level-ddio.csv', sep=',', header=None, names=['Duration'])\n",
    "df_ddio['Scheme'] = 'DDIO'\n",
    "df_reg = pd.read_csv('data/6-22-19/completion_times/5-level-reg.csv', sep=',', header=None, names=['Duration'])\n",
    "df_reg['Scheme'] = 'Register'\n",
    "df_reg_offload = pd.read_csv('data/6-22-19/completion_times/5-level-reg-offload.csv', sep=',', header=None, names=['Duration'])\n",
    "df_reg_offload['Scheme'] = 'Register with NIC Offload'\n",
    "\n",
    "df = pd.concat([df_single, df_mem, df_ddio, df_reg, df_reg_offload])\n",
    "# df = df_single"
   ]
  },
  {
   "cell_type": "code",
   "execution_count": 19,
   "metadata": {},
   "outputs": [
    {
     "data": {
      "text/html": [
       "<div>\n",
       "<style scoped>\n",
       "    .dataframe tbody tr th:only-of-type {\n",
       "        vertical-align: middle;\n",
       "    }\n",
       "\n",
       "    .dataframe tbody tr th {\n",
       "        vertical-align: top;\n",
       "    }\n",
       "\n",
       "    .dataframe thead th {\n",
       "        text-align: right;\n",
       "    }\n",
       "</style>\n",
       "<table border=\"1\" class=\"dataframe\">\n",
       "  <thead>\n",
       "    <tr style=\"text-align: right;\">\n",
       "      <th></th>\n",
       "      <th>Duration</th>\n",
       "    </tr>\n",
       "  </thead>\n",
       "  <tbody>\n",
       "    <tr>\n",
       "      <th>count</th>\n",
       "      <td>4.117000e+03</td>\n",
       "    </tr>\n",
       "    <tr>\n",
       "      <th>mean</th>\n",
       "      <td>9.036778e+04</td>\n",
       "    </tr>\n",
       "    <tr>\n",
       "      <th>std</th>\n",
       "      <td>1.066624e+05</td>\n",
       "    </tr>\n",
       "    <tr>\n",
       "      <th>min</th>\n",
       "      <td>1.070000e+02</td>\n",
       "    </tr>\n",
       "    <tr>\n",
       "      <th>25%</th>\n",
       "      <td>2.639300e+04</td>\n",
       "    </tr>\n",
       "    <tr>\n",
       "      <th>50%</th>\n",
       "      <td>4.244700e+04</td>\n",
       "    </tr>\n",
       "    <tr>\n",
       "      <th>75%</th>\n",
       "      <td>1.226650e+05</td>\n",
       "    </tr>\n",
       "    <tr>\n",
       "      <th>max</th>\n",
       "      <td>1.230640e+06</td>\n",
       "    </tr>\n",
       "  </tbody>\n",
       "</table>\n",
       "</div>"
      ],
      "text/plain": [
       "           Duration\n",
       "count  4.117000e+03\n",
       "mean   9.036778e+04\n",
       "std    1.066624e+05\n",
       "min    1.070000e+02\n",
       "25%    2.639300e+04\n",
       "50%    4.244700e+04\n",
       "75%    1.226650e+05\n",
       "max    1.230640e+06"
      ]
     },
     "execution_count": 19,
     "metadata": {},
     "output_type": "execute_result"
    }
   ],
   "source": [
    "df.describe()"
   ]
  },
  {
   "cell_type": "code",
   "execution_count": 20,
   "metadata": {},
   "outputs": [
    {
     "data": {
      "text/html": [
       "<div>\n",
       "<style scoped>\n",
       "    .dataframe tbody tr th:only-of-type {\n",
       "        vertical-align: middle;\n",
       "    }\n",
       "\n",
       "    .dataframe tbody tr th {\n",
       "        vertical-align: top;\n",
       "    }\n",
       "\n",
       "    .dataframe thead th {\n",
       "        text-align: right;\n",
       "    }\n",
       "</style>\n",
       "<table border=\"1\" class=\"dataframe\">\n",
       "  <thead>\n",
       "    <tr style=\"text-align: right;\">\n",
       "      <th></th>\n",
       "      <th>Duration</th>\n",
       "      <th>Scheme</th>\n",
       "    </tr>\n",
       "  </thead>\n",
       "  <tbody>\n",
       "    <tr>\n",
       "      <th>0</th>\n",
       "      <td>63046.0</td>\n",
       "      <td>Single Core</td>\n",
       "    </tr>\n",
       "    <tr>\n",
       "      <th>1</th>\n",
       "      <td>181943.0</td>\n",
       "      <td>Single Core</td>\n",
       "    </tr>\n",
       "    <tr>\n",
       "      <th>2</th>\n",
       "      <td>118437.0</td>\n",
       "      <td>Single Core</td>\n",
       "    </tr>\n",
       "    <tr>\n",
       "      <th>3</th>\n",
       "      <td>154534.0</td>\n",
       "      <td>Single Core</td>\n",
       "    </tr>\n",
       "    <tr>\n",
       "      <th>4</th>\n",
       "      <td>242810.0</td>\n",
       "      <td>Single Core</td>\n",
       "    </tr>\n",
       "  </tbody>\n",
       "</table>\n",
       "</div>"
      ],
      "text/plain": [
       "   Duration       Scheme\n",
       "0   63046.0  Single Core\n",
       "1  181943.0  Single Core\n",
       "2  118437.0  Single Core\n",
       "3  154534.0  Single Core\n",
       "4  242810.0  Single Core"
      ]
     },
     "execution_count": 20,
     "metadata": {},
     "output_type": "execute_result"
    }
   ],
   "source": [
    "df.head()"
   ]
  },
  {
   "cell_type": "code",
   "execution_count": 29,
   "metadata": {},
   "outputs": [
    {
     "data": {
      "image/png": "[encoded data removed]"
     },
     "metadata": {},
     "output_type": "display_data"
    }
   ],
   "source": [
    "%%R -i df\n",
    "ggplot(df, aes(x=Duration, colour=Scheme)) + \n",
    "    stat_ecdf(geom = \"step\") +\n",
    "    coord_cartesian(xlim = c(10000, 50000)) +\n",
    "    labs(y = \"ECDF\", x=\"Duration (ns)\") +\n",
    "    plotTheme"
   ]
  },
  {
   "cell_type": "code",
   "execution_count": 19,
   "metadata": {},
   "outputs": [],
   "source": [
    "# df.to_csv('temp/combined.csv', index=False)"
   ]
  },
  {
   "cell_type": "code",
   "execution_count": null,
   "metadata": {},
   "outputs": [],
   "source": []
  }
 ],
 "metadata": {
  "kernelspec": {
   "display_name": "Python 3",
   "language": "python",
   "name": "python3"
  },
  "language_info": {
   "codemirror_mode": {
    "name": "ipython",
    "version": 3
   },
   "file_extension": ".py",
   "mimetype": "text/x-python",
   "name": "python",
   "nbconvert_exporter": "python",
   "pygments_lexer": "ipython3",
   "version": "3.7.1"
  }
 },
 "nbformat": 4,
 "nbformat_minor": 2
}
